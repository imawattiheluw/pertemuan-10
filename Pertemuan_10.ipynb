{
  "nbformat": 4,
  "nbformat_minor": 0,
  "metadata": {
    "colab": {
      "provenance": [],
      "authorship_tag": "ABX9TyPhMDKtwsRmIdM2l7xtSuKG",
      "include_colab_link": true
    },
    "kernelspec": {
      "name": "python3",
      "display_name": "Python 3"
    },
    "language_info": {
      "name": "python"
    }
  },
  "cells": [
    {
      "cell_type": "markdown",
      "metadata": {
        "id": "view-in-github",
        "colab_type": "text"
      },
      "source": [
        "<a href=\"https://colab.research.google.com/github/imawattiheluw/pertemuan-10/blob/main/Pertemuan_10.ipynb\" target=\"_parent\"><img src=\"https://colab.research.google.com/assets/colab-badge.svg\" alt=\"Open In Colab\"/></a>"
      ]
    },
    {
      "cell_type": "code",
      "execution_count": null,
      "metadata": {
        "id": "HLMYqQund-ax"
      },
      "outputs": [],
      "source": [
        "# Input Data dan Implementasi Metode Supervised Learning\n",
        "\n",
        "def input_data():\n",
        "    print(\"Masukkan data berikut untuk penilaian kelayakan kredit:\")\n",
        "    pendapatan = float(input(\"Pendapatan (dalam juta): \"))\n",
        "    pinjaman = float(input(\"Jumlah pinjaman (dalam juta): \"))\n",
        "    riwayat_kredit = float(input(\"Riwayat kredit (0 hingga 1): \"))\n",
        "    return [pendapatan, pinjaman, riwayat_kredit]\n",
        "\n",
        "def naive_bayes(pendapatan, pinjaman, riwayat_kredit):\n",
        "    # Aturan sederhana probabilitas Naive Bayes untuk klasifikasi\n",
        "    if pendapatan <= 3 and pinjaman >= 150 and riwayat_kredit <= 0.2:\n",
        "        return \"Tidak Layak\"\n",
        "    elif 2 <= pendapatan <= 5 and 40 <= pinjaman <= 200 and 0.2 <= riwayat_kredit <= 0.5:\n",
        "        return \"Layak\"\n",
        "    elif pendapatan > 5 or riwayat_kredit > 0.5:\n",
        "        return \"Sangat Layak\"\n",
        "    return \"Tidak Layak\"\n",
        "\n",
        "def ann(pendapatan, pinjaman, riwayat_kredit):\n",
        "    # Implementasi ANN sederhana berbasis threshold\n",
        "    skor = (0.4 * pendapatan) + (0.3 * (500 - pinjaman) / 500) + (0.3 * riwayat_kredit)\n",
        "    if skor >= 0.7:\n",
        "        return \"Sangat Layak\"\n",
        "    elif 0.4 <= skor < 0.7:\n",
        "        return \"Layak\"\n",
        "    else:\n",
        "        return \"Tidak Layak\"\n",
        "\n",
        "def knn(pendapatan, pinjaman, riwayat_kredit, data_training):\n",
        "    # KNN berbasis jarak Euclidean\n",
        "    def euclidean_distance(data1, data2):\n",
        "        return ((data1[0] - data2[0])**2 + (data1[1] - data2[1])**2 + (data1[2] - data2[2])**2)**0.5\n",
        "\n",
        "    k = 3  # Tetapkan jumlah tetangga\n",
        "    distances = []\n",
        "    for train_data in data_training:\n",
        "        dist = euclidean_distance([pendapatan, pinjaman, riwayat_kredit], train_data[:-1])\n",
        "        distances.append((dist, train_data[-1]))\n",
        "\n",
        "    distances.sort(key=lambda x: x[0])\n",
        "    neighbors = distances[:k]\n",
        "\n",
        "    votes = {\"Tidak Layak\": 0, \"Layak\": 0, \"Sangat Layak\": 0}\n",
        "    for _, label in neighbors:\n",
        "        votes[label] += 1\n",
        "\n",
        "    return max(votes, key=votes.get)\n",
        "\n",
        "def main():\n",
        "    # Data training untuk KNN (dummy data)\n",
        "    data_training = [\n",
        "        [2, 300, 0.1, \"Tidak Layak\"],\n",
        "        [5, 150, 0.6, \"Layak\"],\n",
        "        [8, 400, 0.9, \"Sangat Layak\"],\n",
        "        [1, 500, 0.2, \"Tidak Layak\"]\n",
        "    ]\n",
        "\n",
        "    data_input = input_data()\n",
        "    pendapatan, pinjaman, riwayat_kredit = data_input\n",
        "\n",
        "    hasil_nb = naive_bayes(pendapatan, pinjaman, riwayat_kredit)\n",
        "    hasil_ann = ann(pendapatan, pinjaman, riwayat_kredit)\n",
        "    hasil_knn = knn(pendapatan, pinjaman, riwayat_kredit, data_training)\n",
        "\n",
        "    print(\"\\nHasil Penilaian Kelayakan Kredit:\")\n",
        "    print(f\"Naive Bayes: {hasil_nb}\")\n",
        "    print(f\"ANN: {hasil_ann}\")\n",
        "    print(f\"KNN: {hasil_knn}\")\n",
        "\n",
        "# Jalankan program\n",
        "main()"
      ]
    }
  ]
}